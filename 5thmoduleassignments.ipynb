{
 "cells": [
  {
   "cell_type": "markdown",
   "id": "3f1452fa-a873-4e17-9008-d20d1e524d81",
   "metadata": {},
   "source": [
    "# Theoritical Questions|"
   ]
  },
  {
   "cell_type": "markdown",
   "id": "f616f84b-7b31-4eb3-8b27-67bde9023eac",
   "metadata": {},
   "source": [
    "### 1.  What is the difference between a function and a method in Python?"
   ]
  },
  {
   "cell_type": "markdown",
   "id": "cc09a073-a7d0-4c16-8436-7e545cfa2447",
   "metadata": {},
   "source": [
    "### Function: \n",
    "\n",
    "A function is a block of code that is called by its name. It can accept parameters and may return a value. Functions in Python are defined using the 'def' keyword and are generally independent and not tied to any specific object or class.\n",
    "\n",
    "### Method: \n",
    "\n",
    "A method is a function that belongs to an object (instance of a class) or a class itself. Methods are defined within a class using the 'def' keyword and are accessed using dot notation (.) on an object instance or class. Methods have access to the data (attributes) of the object they belong to through the self parameter for instance methods."
   ]
  },
  {
   "cell_type": "code",
   "execution_count": 22,
   "id": "1f7087a5-8cf7-469a-b4ae-f5d3c93a6dfd",
   "metadata": {},
   "outputs": [
    {
     "name": "stdout",
     "output_type": "stream",
     "text": [
      "30\n"
     ]
    }
   ],
   "source": [
    "## Example of function\n",
    "def add(a,b):\n",
    "    return a+b\n",
    "result= add(10,20)\n",
    "print(result)\n",
    "\n"
   ]
  },
  {
   "cell_type": "code",
   "execution_count": 23,
   "id": "b81afe65-5c80-4e01-8f23-7825c1b2679c",
   "metadata": {},
   "outputs": [
    {
     "name": "stdout",
     "output_type": "stream",
     "text": [
      "60\n"
     ]
    }
   ],
   "source": [
    "\n",
    "## Example of a method\n",
    "class Summation:\n",
    "\n",
    "    def add(self, a, b):\n",
    "        return a + b\n",
    "\n",
    "\n",
    "obj = Summation()\n",
    "result = obj.add(20, 40)\n",
    "print(result)"
   ]
  },
  {
   "cell_type": "code",
   "execution_count": null,
   "id": "5d2d4126-8781-4535-b495-bbd7a555aad6",
   "metadata": {},
   "outputs": [],
   "source": []
  },
  {
   "cell_type": "markdown",
   "id": "2ff78af8-7dcb-4f74-9b28-a77e6450fb32",
   "metadata": {},
   "source": [
    "# 2. Explain the concept of function arguments and parameters in Python."
   ]
  },
  {
   "cell_type": "markdown",
   "id": "444d0e90-72a8-4e6e-b7ae-4971cca802d0",
   "metadata": {},
   "source": [
    "### Parameters:\n",
    "\n",
    "Parameters are variables used as placeholder listed in the function definition(1st line of function).\n",
    "They specify what kind of arguments a function can accept when it is called. Parameters are like variables  are used to receive input values from the caller."
   ]
  },
  {
   "cell_type": "code",
   "execution_count": 1,
   "id": "ae173cba-3baf-43a2-b5d0-b75d006221f6",
   "metadata": {},
   "outputs": [],
   "source": [
    "def greetings(Name):\n",
    "    print(f\" Hello, {name}!, welcome to office!!!\")\n",
    "\n",
    "# Here, 'Name' is the parameter of the 'greetings' function\n"
   ]
  },
  {
   "cell_type": "markdown",
   "id": "6aac3555-e2a8-46c0-b097-e28864ec8662",
   "metadata": {},
   "source": [
    "### Arguments:\n",
    "\n",
    "Arguments are the actual values or variables that are passed to the function when it is called. They represent the data (or variables) we send into the function's parameters."
   ]
  },
  {
   "cell_type": "code",
   "execution_count": 4,
   "id": "fbfd238c-55b9-4395-ae25-e92698639160",
   "metadata": {},
   "outputs": [
    {
     "name": "stdout",
     "output_type": "stream",
     "text": [
      "100\n"
     ]
    }
   ],
   "source": [
    "def product(a, b):\n",
    "    return a * b\n",
    "\n",
    "# Here, 'a' and 'b' are parameters of the 'product' function\n",
    "\n",
    "result = product(10,10)\n",
    "\n",
    "# Here, 10 and 10 are arguments passed to the 'product' function\n",
    "print(result)"
   ]
  },
  {
   "cell_type": "code",
   "execution_count": null,
   "id": "25fba230-5c4a-41b8-8f15-e907f7b0a7bc",
   "metadata": {},
   "outputs": [],
   "source": []
  },
  {
   "cell_type": "markdown",
   "id": "6976cd6e-c0e9-489a-83a1-55aa0bf31fa1",
   "metadata": {},
   "source": []
  },
  {
   "cell_type": "markdown",
   "id": "f6dd8aa2-b202-49c6-97b0-a8d96a5f9e5b",
   "metadata": {},
   "source": [
    "# 3. What are the different ways to define and call a function in Python?"
   ]
  },
  {
   "cell_type": "code",
   "execution_count": 15,
   "id": "7f5ebe11-f25c-4c2a-ad02-efacd49f09f5",
   "metadata": {},
   "outputs": [
    {
     "name": "stdout",
     "output_type": "stream",
     "text": [
      "Hello, Rohan!\n"
     ]
    }
   ],
   "source": [
    "\"\"\"type 1:\n",
    "Basic Function Definition:\"\"\"\n",
    "def greetings(Name):\n",
    "    print(f\"Hello, {Name}!\")\n",
    "\n",
    "greetings(\"Rohan\")\n"
   ]
  },
  {
   "cell_type": "code",
   "execution_count": 9,
   "id": "7b60dd08-363b-48fc-9b8e-d9e26bd0482a",
   "metadata": {},
   "outputs": [
    {
     "name": "stdout",
     "output_type": "stream",
     "text": [
      "500\n",
      "1000\n"
     ]
    }
   ],
   "source": [
    "\"\"\"type 2:\n",
    "Function with Default Arguments:\n",
    "\"\"\"\n",
    "def product(a, b=10):\n",
    "    print(a*b)\n",
    "\n",
    "product(50)\n",
    "product(50,20)\n"
   ]
  },
  {
   "cell_type": "code",
   "execution_count": 13,
   "id": "f1c33cba-4ecc-4b56-a6ec-cef746c8cf69",
   "metadata": {},
   "outputs": [
    {
     "name": "stdout",
     "output_type": "stream",
     "text": [
      "100\n"
     ]
    }
   ],
   "source": [
    "\"\"\"type 3\n",
    "Function with Arbitrary Arguments:\n",
    "\"\"\"\n",
    "def add(*args):\n",
    "    s = 0\n",
    "    for num in args:\n",
    "        s += num\n",
    "    return s\n",
    "\n",
    "print(add(1, 2, 2,3, 4,5,6,7,8,9,10,11,12,20))\n"
   ]
  },
  {
   "cell_type": "code",
   "execution_count": 16,
   "id": "97aa749f-771e-47c0-9782-eef3b2ef5e3e",
   "metadata": {},
   "outputs": [
    {
     "name": "stdout",
     "output_type": "stream",
     "text": [
      "name: Arnab Lala\n",
      "age: 50\n",
      "city: Siliguri\n"
     ]
    }
   ],
   "source": [
    "\"\"\"type 3\n",
    "Function with Keyword Arguments:\n",
    "\"\"\"\n",
    "def print_info(**kwargs):\n",
    "    for key, value in kwargs.items():\n",
    "        print(f\"{key}: {value}\")\n",
    "\n",
    "print_info(name=\"Arnab Lala\", age=50, city=\"Siliguri\")\n"
   ]
  },
  {
   "cell_type": "code",
   "execution_count": 17,
   "id": "b201637b-4201-48f8-b627-cafd904aa458",
   "metadata": {},
   "outputs": [
    {
     "name": "stdout",
     "output_type": "stream",
     "text": [
      "12\n"
     ]
    }
   ],
   "source": [
    "\"\"\"type 3\n",
    "Anonymous Functions: we implement anonymous func using 'lambda keyword'\n",
    "\"\"\"\n",
    "add = lambda a,b: a+b\n",
    "print(add(6,6))\n"
   ]
  },
  {
   "cell_type": "code",
   "execution_count": null,
   "id": "e0c432ca-7c6f-4ec0-aefd-a527f6f840ad",
   "metadata": {},
   "outputs": [],
   "source": []
  },
  {
   "cell_type": "markdown",
   "id": "776c33ad-c590-4807-9416-b7e4f3db45f3",
   "metadata": {},
   "source": [
    "# 4. What is the purpose of the `return` statement in a Python function?"
   ]
  },
  {
   "cell_type": "markdown",
   "id": "bc9cbfee-bf4a-4dbc-94c8-de3f97b6af41",
   "metadata": {},
   "source": [
    "### Return\n",
    "\n",
    "is a jump statement in python programming language.\n",
    "If inside a function, return is invoked then the function returns the value calculated, and terminates the program.\n",
    "It can also be used to arbitarily terminate the program.\n"
   ]
  },
  {
   "cell_type": "code",
   "execution_count": 19,
   "id": "aeda8498-1d52-4fc6-851c-f78ad0807531",
   "metadata": {},
   "outputs": [
    {
     "name": "stdout",
     "output_type": "stream",
     "text": [
      "200\n"
     ]
    }
   ],
   "source": [
    "def add_numbers(a, b):\n",
    "    return a + b\n",
    "\n",
    "result = add_numbers(100,100)\n",
    "print(result)  \n"
   ]
  },
  {
   "cell_type": "code",
   "execution_count": 21,
   "id": "88477089-99ae-423d-9519-db5d1727a7dc",
   "metadata": {},
   "outputs": [
    {
     "name": "stdout",
     "output_type": "stream",
     "text": [
      "Showing program termination\n",
      "False\n",
      "True\n"
     ]
    }
   ],
   "source": [
    "def is_even(number):\n",
    "    if number % 2 == 0:\n",
    "        return True\n",
    "    else:\n",
    "        print(\"Showing program termination\")\n",
    "        return False\n",
    "\n",
    "print(is_even(5))  \n",
    "print(is_even(100))  \n"
   ]
  },
  {
   "cell_type": "code",
   "execution_count": 24,
   "id": "0ebcee36-3e73-4a48-8783-5c230b556ebe",
   "metadata": {},
   "outputs": [
    {
     "name": "stdout",
     "output_type": "stream",
     "text": [
      "9\n",
      "27\n"
     ]
    }
   ],
   "source": [
    "\"retuning  multiple values as tuple \"\n",
    "def square_and_cube(number):\n",
    "    return number ** 2, number ** 3\n",
    "\n",
    "square, cube = square_and_cube(3)\n",
    "print(square) \n",
    "print(cube)    \n"
   ]
  },
  {
   "cell_type": "code",
   "execution_count": null,
   "id": "206d63d9-7dbe-486d-b5b3-a8eb9ad1348f",
   "metadata": {},
   "outputs": [],
   "source": []
  },
  {
   "cell_type": "markdown",
   "id": "dd58db30-195e-4e00-9a5b-20849aa7dfcf",
   "metadata": {},
   "source": [
    "# 5. What are iterators in Python and how do they differ from iterables?"
   ]
  },
  {
   "cell_type": "markdown",
   "id": "506057c4-759a-4190-9af1-f1dbbd467a0c",
   "metadata": {},
   "source": [
    "iterators:\n",
    "anything that cn be iterated is called iterator\n",
    "\n",
    "itererable : it is any python object/ sequenced data structure i.e capable of returning value sone by one. permitting it to iterate over a loop. eg- tuple/ list/ dict."
   ]
  },
  {
   "cell_type": "code",
   "execution_count": 56,
   "id": "349c7af4-7812-49bf-922a-46852ffe5029",
   "metadata": {},
   "outputs": [
    {
     "name": "stdout",
     "output_type": "stream",
     "text": [
      "1\n",
      "2\n",
      "3\n",
      "4\n",
      "5\n"
     ]
    }
   ],
   "source": [
    "# example\n",
    "lst=iter([1,2,3,4,5])\n",
    "iter(lst)\n",
    "print(next(lst))\n",
    "print(next(lst))\n",
    "print(next(lst))\n",
    "print(next(lst))\n",
    "print(next(lst))\n"
   ]
  },
  {
   "cell_type": "code",
   "execution_count": null,
   "id": "e24c8182-8746-47d7-b65a-068e5610af8f",
   "metadata": {},
   "outputs": [],
   "source": []
  },
  {
   "cell_type": "markdown",
   "id": "c6c3f69a-901b-4987-b5a9-a29aba4a30d9",
   "metadata": {},
   "source": [
    "# 6. Explain the concept of generators in Python and how they are defined."
   ]
  },
  {
   "cell_type": "markdown",
   "id": "3fed1595-75bd-48fc-aacc-d216e3706333",
   "metadata": {},
   "source": [
    "Generators:  Generators are a simple way to create iterators using functions and the yield keyword instead of returning values."
   ]
  },
  {
   "cell_type": "code",
   "execution_count": 74,
   "id": "e25f62fb-092d-429c-8055-80e872bb02c7",
   "metadata": {},
   "outputs": [
    {
     "name": "stdout",
     "output_type": "stream",
     "text": [
      "10\n",
      "9\n",
      "8\n",
      "7\n",
      "6\n",
      "5\n",
      "4\n",
      "3\n",
      "2\n",
      "1\n"
     ]
    }
   ],
   "source": [
    "def countdown(num):\n",
    "    n=num\n",
    "    while n>0:\n",
    "        yield n\n",
    "        n-=1\n",
    "\n",
    "## creating generetor \n",
    "gen =countdown(10)\n",
    "\n",
    "##printing its values\n",
    "for g in gen:\n",
    "    print(g)"
   ]
  },
  {
   "cell_type": "code",
   "execution_count": null,
   "id": "a87a4613-574f-40ae-8ace-16f42abb3b22",
   "metadata": {},
   "outputs": [],
   "source": []
  },
  {
   "cell_type": "markdown",
   "id": "b4b060bc-88fe-43e2-9756-182090dac74f",
   "metadata": {},
   "source": [
    "# 7. What are the advantages of using generators over regular functions?"
   ]
  },
  {
   "cell_type": "markdown",
   "id": "23b4fcd3-7e16-43bc-8726-22b015907f0e",
   "metadata": {},
   "source": [
    "I here note down various advantages of using generators over regular function:\n",
    "\n",
    "1.On-Demand Data: Generators produce values one at a time and only when required, avoiding the need to generate or store all values upfront.\n",
    "\n",
    "2.Memory Efficiency: Since values are generated as needed and not all at once, generators use minimal memory.\n",
    "\n",
    "3.Efficient Memory Usage: Generators do not store the entire sequence in memory, making them suitable for large datasets or infinite sequences.\n",
    "\n",
    "\n",
    "4.Yield vs. Return: Unlike the return statement, which exits the function, yield returns a value and pauses the function’s state, allowing it to resume from where it left off.\n",
    "\n",
    "5.Multiple Yields: Functions can yield multiple values over time, producing a sequence of results."
   ]
  },
  {
   "cell_type": "code",
   "execution_count": 89,
   "id": "eb562cef-3271-4318-b5cb-eecd72a42039",
   "metadata": {},
   "outputs": [
    {
     "name": "stdout",
     "output_type": "stream",
     "text": [
      "5\n",
      "4\n",
      "3\n",
      "2\n",
      "1\n",
      "-------------------\n",
      "5\n",
      "4\n",
      "3\n",
      "2\n",
      "1\n"
     ]
    }
   ],
   "source": [
    "## creating regular function\n",
    "\n",
    "def regular_countDown(num):\n",
    "    cd=[]\n",
    "    n=num\n",
    "    while n>0:\n",
    "        cd.append(n) ## Here the values are actually stored and maintained in a list.. consuming enough memory\n",
    "        n-=1\n",
    "    return cd\n",
    "\n",
    "result=regular_countDown(5)\n",
    "for i in result:\n",
    "    print(i)\n",
    "print(\"-------------------\")\n",
    "\n",
    "## creating generator function\n",
    "\n",
    "def generator_countdownn(num):\n",
    "    n=num\n",
    "    while n>0:\n",
    "        yield n ##Here the values ain't stored like in list. but invoked only when called.\n",
    "        n-=1\n",
    "\n",
    "## creating generetor \n",
    "gen =countdown(5)\n",
    "\n",
    "##printing its values\n",
    "for g in gen:\n",
    "    print(g)"
   ]
  },
  {
   "cell_type": "code",
   "execution_count": null,
   "id": "836fbe82-1130-4b97-9720-83d9cd41fd75",
   "metadata": {},
   "outputs": [],
   "source": []
  },
  {
   "cell_type": "markdown",
   "id": "8afbc028-a50c-47c3-8844-d443b00577cc",
   "metadata": {},
   "source": [
    "# 8. What is a lambda function in Python and when is it typically used?"
   ]
  },
  {
   "cell_type": "markdown",
   "id": "c6d2db7b-1b58-408b-a26b-7526dc218fc7",
   "metadata": {},
   "source": [
    "Lambda functions are small, anonymous functions defined using the lambda keyword. They are used for creating small, throwaway functions without the need to formally define a function using def\n",
    "\n",
    "they can contain only one expression, which is evaluated and returned.\n",
    "\n",
    "Mainly used the code complexity is less and line of code can be shortend"
   ]
  },
  {
   "cell_type": "code",
   "execution_count": 88,
   "id": "7815490c-1aa0-4628-9bac-686258a94dbe",
   "metadata": {},
   "outputs": [
    {
     "name": "stdout",
     "output_type": "stream",
     "text": [
      "40\n"
     ]
    }
   ],
   "source": [
    "subtract = lambda x,y:x-y \n",
    "print(subtract(50,10))"
   ]
  },
  {
   "cell_type": "code",
   "execution_count": null,
   "id": "7a1813a3-e9ce-4e79-99bd-79be00612f8a",
   "metadata": {},
   "outputs": [],
   "source": []
  },
  {
   "cell_type": "markdown",
   "id": "f8c7d80d-68cc-441b-a84f-5566c91454ce",
   "metadata": {},
   "source": [
    "# 9. Explain the purpose and usage of the `map()` function in Python."
   ]
  },
  {
   "cell_type": "markdown",
   "id": "e0b61668-946b-49b5-b2a6-0894b0ae6550",
   "metadata": {},
   "source": [
    "The map function applies a given function to all items in an input iterable (like a list) and returns an iterator with the results.\n",
    "\n",
    "Used to transform each item in an iterable by applying the specified function."
   ]
  },
  {
   "cell_type": "code",
   "execution_count": 90,
   "id": "c557cd58-24e1-4246-beb7-9ec858bc6aa8",
   "metadata": {},
   "outputs": [
    {
     "name": "stdout",
     "output_type": "stream",
     "text": [
      "1\n",
      "4\n",
      "27\n",
      "256\n",
      "3125\n"
     ]
    }
   ],
   "source": [
    "## code in map()\n",
    "lst=[1,2,3,4,5]\n",
    "squared = map(lambda x:x**x, lst)\n",
    "\n",
    "for s in squared:\n",
    "    print(s)"
   ]
  },
  {
   "cell_type": "code",
   "execution_count": null,
   "id": "7c9d409c-b373-4bc5-83a8-8249e30d892f",
   "metadata": {},
   "outputs": [],
   "source": []
  },
  {
   "cell_type": "markdown",
   "id": "2dd4aafb-701b-435c-8ba0-775e047854f5",
   "metadata": {},
   "source": [
    "# 10. What is the difference between `map()`, `reduce()`, and `filter()` functions in Python?"
   ]
  },
  {
   "cell_type": "markdown",
   "id": "4fffc003-1793-4a50-b2b8-bf7e25047c89",
   "metadata": {},
   "source": [
    "##### map ():\n",
    "The map function applies a given function to all items in an input iterable (like a list) and returns an iterator with the results.\n",
    "\n",
    "Used to transform each item in an iterable by applying the specified function.\n",
    "\n",
    "syntax:\n",
    "map(<function name> ,iterable)"
   ]
  },
  {
   "cell_type": "code",
   "execution_count": 91,
   "id": "4996e61d-3bb8-4029-abbf-909865548205",
   "metadata": {},
   "outputs": [
    {
     "name": "stdout",
     "output_type": "stream",
     "text": [
      "1\n",
      "4\n",
      "27\n",
      "256\n",
      "3125\n"
     ]
    }
   ],
   "source": [
    "## code in map()\n",
    "lst=[1,2,3,4,5]\n",
    "squared = map(lambda x:x**x, lst)\n",
    "\n",
    "for s in squared:\n",
    "    print(s)"
   ]
  },
  {
   "cell_type": "markdown",
   "id": "56522b4b-fba1-4d51-b232-e5f9a72b3e7e",
   "metadata": {},
   "source": [
    "#### reduce():\n",
    "The reduce function from the functools module applies a given function cumulatively to the items of a sequence, from left to right, to reduce the sequence to a single value.\n",
    "\n",
    " It reduces an iterable to a single cumulative value by applying the function cumulatively.\n",
    " \n",
    "syntax : \n",
    "\n",
    "from functools import reduce\n",
    "\n",
    "reduce(function, iterable)"
   ]
  },
  {
   "cell_type": "code",
   "execution_count": 95,
   "id": "cb8ffbf9-2497-4442-a257-97bdbc9240b1",
   "metadata": {},
   "outputs": [
    {
     "name": "stdout",
     "output_type": "stream",
     "text": [
      "15\n"
     ]
    }
   ],
   "source": [
    "## code in reduce()\n",
    "from functools import reduce\n",
    "lst=[1,2,3,4,5]\n",
    "add = reduce(lambda x,y:x+y, lst)\n",
    "\n",
    "print(add)"
   ]
  },
  {
   "cell_type": "markdown",
   "id": "e67989f8-6ce0-4703-8242-1f7bc708a428",
   "metadata": {},
   "source": [
    "#### Filter Functions()\n",
    "The filter function constructs an iterator from elements of an iterable for which a specified function returns True.\n",
    " \n",
    "Used for filtering elements from an iterable based on a condition defined by the function. \n",
    "\n",
    "syntax:\n",
    "filter(function, iterable)"
   ]
  },
  {
   "cell_type": "code",
   "execution_count": 102,
   "id": "a3003193-3e1d-48b4-8121-da3061a1471e",
   "metadata": {},
   "outputs": [
    {
     "name": "stdout",
     "output_type": "stream",
     "text": [
      "(4, 5)\n"
     ]
    }
   ],
   "source": [
    "## code in filter()\n",
    "num=[-5,-4,4,5]\n",
    "positive= filter(lambda x:x>0, num)\n",
    "print(tuple(positive))"
   ]
  },
  {
   "cell_type": "code",
   "execution_count": null,
   "id": "6558ee07-4d29-41c5-b443-d771ed46a514",
   "metadata": {},
   "outputs": [],
   "source": []
  },
  {
   "cell_type": "markdown",
   "id": "4b6dc943-3298-4616-8f14-d08a9761258c",
   "metadata": {},
   "source": [
    "## 11. Using pen & Paper write the internal mechanism for sum operation using  reduce function on this given\n",
    "list:[47,11,42,13]?"
   ]
  },
  {
   "cell_type": "code",
   "execution_count": 2,
   "id": "ae9ef0ee-9176-46b5-b9f6-937b9ee838e3",
   "metadata": {},
   "outputs": [
    {
     "name": "stdout",
     "output_type": "stream",
     "text": [
      "113\n"
     ]
    }
   ],
   "source": [
    "lst=[47,11,42,13]\n",
    "\n",
    "from functools import reduce\n",
    "result = reduce(lambda x,y:x+y, lst)\n",
    "print(result)"
   ]
  },
  {
   "cell_type": "markdown",
   "id": "3f660aff-2169-4fd4-bd6a-a2b07462da34",
   "metadata": {},
   "source": [
    "### here, from functools import reduce: this statement imports the reduce function from the functools module.\n",
    "\n",
    "lst = [47, 11, 42, 13]:  the list of numbers to calculate sum\n",
    "\n",
    "result = reduce(lambda x,y:x+y, lst) ## this statement implememts the reduce function . i have take lambda func to calculate sum in one go. it also takes the iterable data structure i.e list. reduce()==> applies add cumulatively to the items of lst, from left to right, so it effectively computes ((47 + 11) + 42) + 13.\n",
    "\n",
    "print(result) ## store sthe added value in variable result and print it.\n"
   ]
  },
  {
   "cell_type": "code",
   "execution_count": null,
   "id": "a677253a-8341-4177-9491-767fb1dca3f1",
   "metadata": {},
   "outputs": [],
   "source": []
  },
  {
   "cell_type": "markdown",
   "id": "5c339f30-0944-4e71-a106-7c3b899d768b",
   "metadata": {},
   "source": [
    "# Practical Questions"
   ]
  },
  {
   "cell_type": "markdown",
   "id": "4c57c135-956a-4c32-b7c2-cd6faf5fea65",
   "metadata": {},
   "source": [
    "### 1. Write a Python function that takes a list of numbers as input and returns the sum of all even numbers in the list."
   ]
  },
  {
   "cell_type": "code",
   "execution_count": 1,
   "id": "1c02016e-1769-451c-80fb-d1a3edb87e44",
   "metadata": {},
   "outputs": [
    {
     "name": "stdin",
     "output_type": "stream",
     "text": [
      "Enter the size of list::\n",
      " 5\n",
      "Enter the Numbers in the list::\n",
      " 2\n",
      "Enter the Numbers in the list::\n",
      " -6\n",
      "Enter the Numbers in the list::\n",
      " 56\n",
      "Enter the Numbers in the list::\n",
      " 13\n",
      "Enter the Numbers in the list::\n",
      " -13\n"
     ]
    },
    {
     "name": "stdout",
     "output_type": "stream",
     "text": [
      "The Sum of all even numbers in list are:: 52\n"
     ]
    }
   ],
   "source": [
    "\n",
    "lst=[]\n",
    "lngth=int(input(\"Enter the size of list::\\n\"))\n",
    "for i in range(lngth):\n",
    "    num= int(input(\"Enter the Numbers in the list::\\n\"))\n",
    "    lst.append((num))\n",
    "\n",
    "\n",
    "def add(l):\n",
    "    s=0\n",
    "    for i in l:\n",
    "        if i % 2 == 0:\n",
    "            s += i\n",
    "    return (s)\n",
    "addition=add(lst)\n",
    "print(\"The Sum of all even numbers in list are::\",addition)"
   ]
  },
  {
   "cell_type": "code",
   "execution_count": null,
   "id": "e427ba07-b050-4d71-a57f-88dc2d43641f",
   "metadata": {},
   "outputs": [],
   "source": []
  },
  {
   "cell_type": "markdown",
   "id": "8fc560fd-54c5-4b89-97ad-74a60e79075f",
   "metadata": {},
   "source": [
    "### 2. Create a Python function that accepts a string and returns the reverse of that string."
   ]
  },
  {
   "cell_type": "code",
   "execution_count": 2,
   "id": "71929b96-5556-4d4c-8d1e-1fb76154e2d6",
   "metadata": {},
   "outputs": [
    {
     "name": "stdin",
     "output_type": "stream",
     "text": [
      "Enter a String to reverse:: Hello, Programmers!\n"
     ]
    },
    {
     "name": "stdout",
     "output_type": "stream",
     "text": [
      "!sremmargorP ,olleH\n"
     ]
    }
   ],
   "source": [
    "input_string= input(\"Enter a String to reverse::\")\n",
    "\n",
    "def rev_String(input_string):\n",
    "    input_string=input_string[::-1]\n",
    "\n",
    "    return input_string\n",
    "reversed_string=rev_String(input_string)\n",
    "print(reversed_string)"
   ]
  },
  {
   "cell_type": "code",
   "execution_count": null,
   "id": "5541096c-fc7d-4192-90b0-ffb3793ff8b7",
   "metadata": {},
   "outputs": [],
   "source": []
  },
  {
   "cell_type": "markdown",
   "id": "2ac21925-48fc-4bab-bd2b-0893114f096b",
   "metadata": {},
   "source": [
    "### 3. Implement a Python function that takes a list of integers and returns a new list containing the squares of each number."
   ]
  },
  {
   "cell_type": "code",
   "execution_count": 6,
   "id": "aefe3813-4532-4aaf-8148-9e9efab617c3",
   "metadata": {},
   "outputs": [
    {
     "name": "stdin",
     "output_type": "stream",
     "text": [
      "Enter the size of list::\n",
      " 5\n",
      "Enter the Numbers in the list::\n",
      " 1\n",
      "Enter the Numbers in the list::\n",
      " 2\n",
      "Enter the Numbers in the list::\n",
      " 3\n",
      "Enter the Numbers in the list::\n",
      " 4\n",
      "Enter the Numbers in the list::\n",
      " 5\n"
     ]
    },
    {
     "name": "stdout",
     "output_type": "stream",
     "text": [
      "[1.0, 4.0, 9.0, 16.0, 25.0]\n"
     ]
    }
   ],
   "source": [
    "from math import pow\n",
    "\n",
    "lst=[]\n",
    "lngth=int(input(\"Enter the size of list::\\n\"))\n",
    "for i in range(1,lngth+1):\n",
    "    num= int(input(\"Enter the Numbers in the list::\\n\"))\n",
    "    lst.append((num))\n",
    "\n",
    "def sqrd_List(lst):\n",
    "    new_lst=[]\n",
    "    for i in lst:\n",
    "        new_lst.append(pow(i,2))\n",
    "    return new_lst\n",
    "\n",
    "result=sqrd_List(lst)\n",
    "print(result)"
   ]
  },
  {
   "cell_type": "code",
   "execution_count": null,
   "id": "31c128b6-0681-40b9-bb8b-3423990add27",
   "metadata": {},
   "outputs": [],
   "source": []
  },
  {
   "cell_type": "markdown",
   "id": "1525ded3-25f1-4a2f-9527-951154f7831a",
   "metadata": {},
   "source": [
    "### 4. Write a Python function that checks if a given number is prime or not from 1 to 200."
   ]
  },
  {
   "cell_type": "code",
   "execution_count": null,
   "id": "58949b4a-a65f-485a-9609-e92f5348900d",
   "metadata": {},
   "outputs": [],
   "source": [
    "## prgramme to check if a number is prime or not in range 1 to 200\n",
    "\n",
    "limit = int(input(\"Enter the range::\\n\"))\n",
    "def check_prime(limit):\n",
    "\n",
    "    i=1\n",
    "    while i<=limit:\n",
    "        ct=0\n",
    "        j=1\n",
    "        while j<=i:\n",
    "            ##print(i,j)\n",
    "            if i%j == 0:\n",
    "                ct+=1\n",
    "            j+=1\n",
    "        if(ct==2):\n",
    "            print(i ,\"is a prime nos!!!\")\n",
    "        else:\n",
    "            print(i, \"is not a prime nos!!!\")\n",
    "        i+=1\n",
    "\n",
    "\n",
    "check_prime(limit)"
   ]
  },
  {
   "cell_type": "markdown",
   "id": "f9b2992d-e6a8-422b-8884-e95de8b319a7",
   "metadata": {},
   "source": [
    "## output\n",
    "E:\\PythonBaseFiles\\python.exe \"E:\\PW 5th module practical solutions\\Question_1.py\" \n",
    "\n",
    "Enter the range::\n",
    "\n",
    "200\n",
    "\n",
    "1 is not a prime nos!!!\n",
    "\n",
    "2 is a prime nos!!!\n",
    "\n",
    "3 is a prime nos!!!\n",
    "\n",
    "4 is not a prime nos!!!\n",
    "\n",
    "5 is a prime nos!!!\n",
    "\n",
    "6 is not a prime nos!!!\n",
    "\n",
    "7 is a prime nos!!!\n",
    "\n",
    "8 is not a prime nos!!!\n",
    "\n",
    "9 is not a prime nos!!!\n",
    "\n",
    "10 is not a prime nos!!!\n",
    "\n",
    "11 is a prime nos!!!\n",
    "\n",
    "12 is not a prime nos!!!\n",
    "\n",
    "13 is a prime nos!!!\n",
    "\n",
    "14 is not a prime nos!!!\n",
    "\n",
    "\n",
    "15 is not a prime nos!!!\n",
    "\n",
    "16 is not a prime nos!!!\n",
    "\n",
    "17 is a prime nos!!!\n",
    "\n",
    "18 is not a prime nos!!!\n",
    "\n",
    "19 is a prime nos!!!\n",
    "\n",
    "20 is not a prime nos!!!\n",
    "\n",
    "21 is not a prime nos!!!\n",
    "\n",
    "22 is not a prime nos!!!\n",
    "\n",
    "23 is a prime nos!!!\n",
    "\n",
    "24 is not a prime nos!!!\n",
    "\n",
    "25 is not a prime nos!!!\n",
    "\n",
    "26 is not a prime nos!!!\n",
    "\n",
    "27 is not a prime nos!!!\n",
    "\n",
    "28 is not a prime nos!!!\n",
    "\n",
    "29 is a prime nos!!!\n",
    "\n",
    "30 is not a prime nos!!!\n",
    "\n",
    "31 is a prime nos!!!\n",
    "\n",
    "32 is not a prime nos!!!\n",
    "\n",
    "33 is not a prime nos!!!\n",
    "\n",
    "34 is not a prime nos!!!\n",
    "\n",
    "35 is not a prime nos!!!\n",
    "\n",
    "36 is not a prime nos!!!\n",
    "\n",
    "37 is a prime nos!!!\n",
    "\n",
    "38 is not a prime nos!!!\n",
    "\n",
    "39 is not a prime nos!!!\n",
    "\n",
    "40 is not a prime nos!!!\n",
    "\n",
    "41 is a prime nos!!!\n",
    "\n",
    "42 is not a prime nos!!!\n",
    "\n",
    "43 is a prime nos!!!\n",
    "\n",
    "44 is not a prime nos!!!\n",
    "\n",
    "45 is not a prime nos!!!\n",
    "\n",
    "46 is not a prime nos!!!\n",
    "\n",
    "47 is a prime nos!!!\n",
    "\n",
    "48 is not a prime nos!!!\n",
    "\n",
    "49 is not a prime nos!!!\n",
    "\n",
    "50 is not a prime nos!!!\n",
    "\n",
    "51 is not a prime nos!!!\n",
    "\n",
    "52 is not a prime nos!!!\n",
    "\n",
    "53 is a prime nos!!!\n",
    "\n",
    "54 is not a prime nos!!!\n",
    "\n",
    "55 is not a prime nos!!!\n",
    "\n",
    "56 is not a prime nos!!!\n",
    "\n",
    "57 is not a prime nos!!!\n",
    "\n",
    "58 is not a prime nos!!!\n",
    "\n",
    "59 is a prime nos!!!\n",
    "\n",
    "60 is not a prime nos!!!\n",
    "\n",
    "61 is a prime nos!!!\n",
    "\n",
    "62 is not a prime nos!!!\n",
    "\n",
    "63 is not a prime nos!!!\n",
    "\n",
    "64 is not a prime nos!!!\n",
    "\n",
    "65 is not a prime nos!!!\n",
    "\n",
    "66 is not a prime nos!!!\n",
    "\n",
    "67 is a prime nos!!!\n",
    "\n",
    "68 is not a prime nos!!!\n",
    "\n",
    "\n",
    "69 is not a prime nos!!!\n",
    "\n",
    "70 is not a prime nos!!!\n",
    "\n",
    "71 is a prime nos!!!\n",
    "\n",
    "72 is not a prime nos!!!\n",
    "\n",
    "\n",
    "73 is a prime nos!!!\n",
    "\n",
    "\n",
    "74 is not a prime nos!!!\n",
    "\n",
    "75 is not a prime nos!!!\n",
    "\n",
    "76 is not a prime nos!!!\n",
    "\n",
    "77 is not a prime nos!!!\n",
    "\n",
    "78 is not a prime nos!!!\n",
    "\n",
    "79 is a prime nos!!!\n",
    "\n",
    "\n",
    "80 is not a prime nos!!!\n",
    "\n",
    "81 is not a prime nos!!!\n",
    "\n",
    "82 is not a prime nos!!!\n",
    "\n",
    "83 is a prime nos!!!\n",
    "\n",
    "84 is not a prime nos!!!\n",
    "\n",
    "85 is not a prime nos!!!\n",
    "\n",
    "86 is not a prime nos!!!\n",
    "\n",
    "87 is not a prime nos!!!\n",
    "\n",
    "88 is not a prime nos!!!\n",
    "\n",
    "89 is a prime nos!!!\n",
    "\n",
    "90 is not a prime nos!!!\n",
    "\n",
    "91 is not a prime nos!!!\n",
    "\n",
    "92 is not a prime nos!!!\n",
    "\n",
    "93 is not a prime nos!!!\n",
    "\n",
    "94 is not a prime nos!!!\n",
    "\n",
    "95 is not a prime nos!!!\n",
    "\n",
    "96 is not a prime nos!!!\n",
    "\n",
    "97 is a prime nos!!!\n",
    "\n",
    "98 is not a prime nos!!!\n",
    "\n",
    "99 is not a prime nos!!!\n",
    "\n",
    "100 is not a prime nos!!!\n",
    "\n",
    "101 is a prime nos!!!\n",
    "\n",
    "102 is not a prime nos!!!\n",
    "\n",
    "103 is a prime nos!!!\n",
    "\n",
    "104 is not a prime nos!!!\n",
    "\n",
    "105 is not a prime nos!!!\n",
    "\n",
    "106 is not a prime nos!!!\n",
    "\n",
    "107 is a prime nos!!!\n",
    "\n",
    "108 is not a prime nos!!!\n",
    "\n",
    "109 is a prime nos!!!\n",
    "\n",
    "110 is not a prime nos!!!\n",
    "\n",
    "111 is not a prime nos!!!\n",
    "\n",
    "112 is not a prime nos!!!\n",
    "\n",
    "113 is a prime nos!!!\n",
    "\n",
    "114 is not a prime nos!!!\n",
    "\n",
    "115 is not a prime nos!!!\n",
    "\n",
    "116 is not a prime nos!!!\n",
    "\n",
    "117 is not a prime nos!!!\n",
    "\n",
    "118 is not a prime nos!!!\n",
    "\n",
    "119 is not a prime nos!!!\n",
    "\n",
    "120 is not a prime nos!!!\n",
    "\n",
    "121 is not a prime nos!!!\n",
    "\n",
    "122 is not a prime nos!!!\n",
    "\n",
    "123 is not a prime nos!!!\n",
    "\n",
    "124 is not a prime nos!!!\n",
    "\n",
    "125 is not a prime nos!!!\n",
    "\n",
    "126 is not a prime nos!!!\n",
    "\n",
    "127 is a prime nos!!!\n",
    "\n",
    "128 is not a prime nos!!!\n",
    "\n",
    "129 is not a prime nos!!!\n",
    "\n",
    "130 is not a prime nos!!!\n",
    "\n",
    "131 is a prime nos!!!\n",
    "\n",
    "132 is not a prime nos!!!\n",
    "\n",
    "133 is not a prime nos!!!\n",
    "\n",
    "134 is not a prime nos!!!\n",
    "\n",
    "135 is not a prime nos!!!\n",
    "\n",
    "136 is not a prime nos!!!\n",
    "\n",
    "137 is a prime nos!!!\n",
    "\n",
    "138 is not a prime nos!!!\n",
    "\n",
    "139 is a prime nos!!!\n",
    "\n",
    "140 is not a prime nos!!!\n",
    "\n",
    "141 is not a prime nos!!!\n",
    "\n",
    "142 is not a prime nos!!!\n",
    "\n",
    "143 is not a prime nos!!!\n",
    "\n",
    "144 is not a prime nos!!!\n",
    "\n",
    "145 is not a prime nos!!!\n",
    "\n",
    "146 is not a prime nos!!!\n",
    "\n",
    "147 is not a prime nos!!!\n",
    "\n",
    "148 is not a prime nos!!!\n",
    "\n",
    "149 is a prime nos!!!\n",
    "\n",
    "150 is not a prime nos!!!\n",
    "\n",
    "151 is a prime nos!!!\n",
    "\n",
    "152 is not a prime nos!!!\n",
    "\n",
    "153 is not a prime nos!!!\n",
    "\n",
    "154 is not a prime nos!!!\n",
    "\n",
    "155 is not a prime nos!!!\n",
    "\n",
    "156 is not a prime nos!!!\n",
    "\n",
    "157 is a prime nos!!!\n",
    "\n",
    "158 is not a prime nos!!!\n",
    "\n",
    "159 is not a prime nos!!!\n",
    "\n",
    "160 is not a prime nos!!!\n",
    "\n",
    "161 is not a prime nos!!!\n",
    "\n",
    "162 is not a prime nos!!!\n",
    "\n",
    "163 is a prime nos!!!\n",
    "\n",
    "164 is not a prime nos!!!\n",
    "\n",
    "165 is not a prime nos!!!\n",
    "\n",
    "166 is not a prime nos!!!\n",
    "\n",
    "167 is a prime nos!!!\n",
    "\n",
    "168 is not a prime nos!!!\n",
    "\n",
    "169 is not a prime nos!!!\n",
    "\n",
    "170 is not a prime nos!!!\n",
    "\n",
    "171 is not a prime nos!!!\n",
    "\n",
    "172 is not a prime nos!!!\n",
    "\n",
    "173 is a prime nos!!!\n",
    "\n",
    "174 is not a prime nos!!!\n",
    "\n",
    "175 is not a prime nos!!!\n",
    "\n",
    "176 is not a prime nos!!!\n",
    "\n",
    "177 is not a prime nos!!!\n",
    "\n",
    "178 is not a prime nos!!!\n",
    "\n",
    "179 is a prime nos!!!\n",
    "\n",
    "180 is not a prime nos!!!\n",
    "\n",
    "181 is a prime nos!!!\n",
    "\n",
    "182 is not a prime nos!!!\n",
    "\n",
    "183 is not a prime nos!!!\n",
    "\n",
    "184 is not a prime nos!!!\n",
    "\n",
    "185 is not a prime nos!!!\n",
    "\n",
    "186 is not a prime nos!!!\n",
    "\n",
    "187 is not a prime nos!!!\n",
    "\n",
    "188 is not a prime nos!!!\n",
    "\n",
    "189 is not a prime nos!!!\n",
    "\n",
    "190 is not a prime nos!!!\n",
    "\n",
    "191 is a prime nos!!!\n",
    "\n",
    "192 is not a prime nos!!!\n",
    "\n",
    "193 is a prime nos!!!\n",
    "\n",
    "194 is not a prime nos!!!\n",
    "\n",
    "195 is not a prime nos!!!\n",
    "\n",
    "196 is not a prime nos!!!\n",
    "\n",
    "197 is a prime nos!!!\n",
    "\n",
    "198 is not a prime nos!!!\n",
    "\n",
    "199 is a prime nos!!!\n",
    "\n",
    "200 is not a prime nos!!!\n",
    "\n",
    "Process finished with exit code 0\n"
   ]
  },
  {
   "cell_type": "code",
   "execution_count": null,
   "id": "a6ff5b0d-9411-4256-98cf-2cb49255641b",
   "metadata": {},
   "outputs": [],
   "source": []
  },
  {
   "cell_type": "markdown",
   "id": "10e8d4d9-dd4f-4917-9c55-975e06e86460",
   "metadata": {},
   "source": [
    "## 5. Create an iterator class in Python that generates the Fibonacci sequence up to a specified number of terms"
   ]
  },
  {
   "cell_type": "code",
   "execution_count": 2,
   "id": "33fb7683-264f-4d9e-a759-576d3cbf3e7d",
   "metadata": {},
   "outputs": [
    {
     "name": "stdout",
     "output_type": "stream",
     "text": [
      "0\n",
      "1\n",
      "1\n",
      "2\n",
      "3\n",
      "5\n",
      "8\n",
      "13\n",
      "21\n",
      "34\n"
     ]
    }
   ],
   "source": [
    "# code\n",
    "class FibonacciIterator:\n",
    "    def __init__(self, max_terms):\n",
    "        self.max_terms = max_terms\n",
    "        self.term_count = 0\n",
    "        self.a, self.b = 0, 1\n",
    "    \n",
    "    def __iter__(self):\n",
    "        return self\n",
    "    \n",
    "    def __next__(self):\n",
    "        if self.term_count >= self.max_terms:\n",
    "            raise StopIteration\n",
    "        \n",
    "        if self.term_count == 0:\n",
    "            self.term_count += 1\n",
    "            return 0\n",
    "        \n",
    "        if self.term_count == 1:\n",
    "            self.term_count += 1\n",
    "            return 1\n",
    "        \n",
    "        fibonacci_number = self.a + self.b\n",
    "        self.a, self.b = self.b, fibonacci_number\n",
    "        self.term_count += 1\n",
    "        return fibonacci_number\n",
    "\n",
    "# Creating an object (instance) of FibonacciIterator\n",
    "fib_iter = FibonacciIterator(10)  # Generate Fibonacci sequence up to 10 terms\n",
    "\n",
    "# Using the iterator to print Fibonacci numbers\n",
    "for num in fib_iter:\n",
    "    print(num)\n"
   ]
  },
  {
   "cell_type": "code",
   "execution_count": null,
   "id": "e19ac21f-4aef-42e5-a2f8-574f8ab1c579",
   "metadata": {},
   "outputs": [],
   "source": []
  },
  {
   "cell_type": "markdown",
   "id": "66a309fe-9688-4132-a5c3-b95f659a9561",
   "metadata": {},
   "source": [
    "### 6. Write a generator function in Python that yields the powers of 2 up to a given exponent."
   ]
  },
  {
   "cell_type": "code",
   "execution_count": 1,
   "id": "7aef9e20-7870-47dc-a1fc-e334657d4ed1",
   "metadata": {},
   "outputs": [
    {
     "name": "stdin",
     "output_type": "stream",
     "text": [
      "Enter the maximum exponent::\n",
      " 6\n"
     ]
    },
    {
     "name": "stdout",
     "output_type": "stream",
     "text": [
      "The generative values are ::\n",
      "\n",
      "1\n",
      "2\n",
      "4\n",
      "8\n",
      "16\n",
      "32\n",
      "64\n"
     ]
    }
   ],
   "source": [
    "max_expo=int(input(\"Enter the maximum exponent::\\n\"))\n",
    "def powerOfTwo(max_expo):\n",
    "    expo=0\n",
    "    while(expo<=max_expo):\n",
    "        yield 2**expo\n",
    "        expo+=1\n",
    "\n",
    "gen= powerOfTwo(max_expo)\n",
    "print(\"The generative values are ::\\n\")\n",
    "for g in gen:\n",
    "    print(g)"
   ]
  },
  {
   "cell_type": "code",
   "execution_count": null,
   "id": "9253d917-958d-489c-898a-43c3e0bb48b7",
   "metadata": {
    "tags": []
   },
   "outputs": [],
   "source": []
  },
  {
   "cell_type": "markdown",
   "id": "bee21336-5752-483b-94f7-c173cb9b52fa",
   "metadata": {},
   "source": [
    "## 7. Implement a generator function that reads a file line by line and yields each line as a string"
   ]
  },
  {
   "cell_type": "code",
   "execution_count": 4,
   "id": "0738fa88-b83d-4327-b32f-1c501ca792a5",
   "metadata": {},
   "outputs": [
    {
     "name": "stdout",
     "output_type": "stream",
     "text": [
      "Read each line from file and yeilding each line as a sting\n",
      "\n",
      "\n",
      "Hi everyone\n",
      " We are learning File I/O\n",
      " using  Java.\n",
      " i like programming in Java\n",
      "\n"
     ]
    }
   ],
   "source": [
    "## code\n",
    "def reading_file():\n",
    "    f = open(\"sample.txt\", \"r\")\n",
    "    data=f.read()\n",
    "    yield data\n",
    "\n",
    "gen = reading_file()\n",
    "print(\"Read each line from file and yeilding each line as a sting\\n\\n\")\n",
    "for g in gen:\n",
    "    print(g)\n"
   ]
  },
  {
   "cell_type": "code",
   "execution_count": null,
   "id": "3ce81aab-7c3f-482a-9302-2c172457bbac",
   "metadata": {},
   "outputs": [],
   "source": []
  },
  {
   "cell_type": "markdown",
   "id": "fdba3551-248a-49f9-b2d7-ba3b3220ed92",
   "metadata": {},
   "source": [
    "## 8. Use a lambda function in Python to sort a list of tuples based on the second element of each tuple."
   ]
  },
  {
   "cell_type": "code",
   "execution_count": 1,
   "id": "f7c2bbc1-1348-4a03-803d-47b3a1095ff4",
   "metadata": {},
   "outputs": [
    {
     "name": "stdout",
     "output_type": "stream",
     "text": [
      "[(3, 2), (6, 4), (1, 5), (5, 7), (9, 8)]\n"
     ]
    }
   ],
   "source": [
    "## code\n",
    "# Sample list of tuples\n",
    "tuples_list = [(1, 5), (3, 2), (9, 8), (6, 4), (5, 7)]\n",
    "\n",
    "# Sort the list of tuples based on the second element of each tuple\n",
    "sorted_list = sorted(tuples_list, key=lambda x: x[1])\n",
    "\n",
    "print(sorted_list)\n"
   ]
  },
  {
   "cell_type": "code",
   "execution_count": null,
   "id": "be0c0c5c-6a96-4476-b22e-e2ca86805c63",
   "metadata": {},
   "outputs": [],
   "source": []
  },
  {
   "cell_type": "code",
   "execution_count": null,
   "id": "7f57b633-eb2b-4f40-8801-5d1393d64dec",
   "metadata": {},
   "outputs": [],
   "source": []
  },
  {
   "cell_type": "markdown",
   "id": "727966ed-13b4-4e53-9d9f-476cb5b2738f",
   "metadata": {},
   "source": [
    "### 9.Write a Python program that uses `map()` to convert a list of temperatures from Celsius to Fahrenheit"
   ]
  },
  {
   "cell_type": "code",
   "execution_count": 6,
   "id": "b6ec09b7-3a2c-49ae-9ea7-0afb6312bd04",
   "metadata": {},
   "outputs": [
    {
     "name": "stdout",
     "output_type": "stream",
     "text": [
      "The mapped values of CELCIUS scale with FAHARENHEIT scale  is as follows::\n",
      "\n",
      "41.0\n",
      "48.019999999999996\n",
      "15.8\n",
      "212.0\n",
      "-148.0\n",
      "68.0\n",
      "98.60000000000001\n"
     ]
    }
   ],
   "source": [
    "lst=[5, 8.9,-9.0,100,-100,20,37.0]\n",
    "# formula ==>  F=9/5 * C+32\n",
    "\n",
    "celcius_to_fahrenheit= map(lambda celcius: 9/5 *celcius +32,lst )\n",
    "\n",
    "print(\"The mapped values of CELCIUS scale with FAHARENHEIT scale  is as follows::\\n\") \n",
    "for f in celcius_to_fahrenheit:\n",
    "    print(f)"
   ]
  },
  {
   "cell_type": "code",
   "execution_count": null,
   "id": "b8f500a6-4291-407b-9e65-deb4b2daa60f",
   "metadata": {},
   "outputs": [],
   "source": []
  },
  {
   "cell_type": "markdown",
   "id": "5a50e4bd-ad1f-4d60-9137-80c4ffae586d",
   "metadata": {},
   "source": [
    "### 10. Create a Python program that uses `filter()` to remove all the vowels from a given string."
   ]
  },
  {
   "cell_type": "code",
   "execution_count": 9,
   "id": "805b1745-f908-4380-bb8f-4bc293f631e8",
   "metadata": {},
   "outputs": [
    {
     "name": "stdin",
     "output_type": "stream",
     "text": [
      "Enter a String::\n",
      " A quick brown fox jumped over a lazy Dog\n"
     ]
    },
    {
     "name": "stdout",
     "output_type": "stream",
     "text": [
      "Original string: A quick brown fox jumped over a lazy Dog\n",
      "String without vowels:  qck brwn fx jmpd vr  lzy Dg\n"
     ]
    }
   ],
   "source": [
    "input_string = input(\"Enter a String::\\n\")\n",
    "\n",
    "\n",
    "def removed_all_vowels(input_str):\n",
    "    vowels = \"aeiouAEIOU\"\n",
    "    # Use filter to keep only characters not in vowels\n",
    "    filtered_str = filter(lambda x: x not in vowels, input_str)\n",
    "    # Join the filtered characters to form the resulti|ng string\n",
    "    result_str = ''.join(filtered_str)\n",
    "    return result_str\n",
    "\n",
    "\n",
    "\n",
    "result_string = removed_all_vowels(input_string)\n",
    "print(\"Original string:\", input_string)\n",
    "print(\"String without vowels:\", result_string)"
   ]
  },
  {
   "cell_type": "code",
   "execution_count": null,
   "id": "3fb10eef-5617-4418-9d26-4531dba32814",
   "metadata": {},
   "outputs": [],
   "source": []
  },
  {
   "cell_type": "code",
   "execution_count": null,
   "id": "553fe6e5-8435-433f-9838-86f1af9ed21a",
   "metadata": {},
   "outputs": [],
   "source": []
  },
  {
   "cell_type": "code",
   "execution_count": null,
   "id": "9d921b6c-84a9-46af-9703-ec531f4c8758",
   "metadata": {},
   "outputs": [],
   "source": []
  },
  {
   "cell_type": "code",
   "execution_count": null,
   "id": "c5228dca-5959-4a84-8d63-89515ee400d0",
   "metadata": {},
   "outputs": [],
   "source": []
  }
 ],
 "metadata": {
  "kernelspec": {
   "display_name": "Python 3 (ipykernel)",
   "language": "python",
   "name": "python3"
  },
  "language_info": {
   "codemirror_mode": {
    "name": "ipython",
    "version": 3
   },
   "file_extension": ".py",
   "mimetype": "text/x-python",
   "name": "python",
   "nbconvert_exporter": "python",
   "pygments_lexer": "ipython3",
   "version": "3.10.8"
  }
 },
 "nbformat": 4,
 "nbformat_minor": 5
}
